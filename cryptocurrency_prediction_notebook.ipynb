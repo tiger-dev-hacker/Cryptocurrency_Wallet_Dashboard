{
 "cells": [
  {
   "cell_type": "code",
   "execution_count": null,
   "id": "97e21ca8",
   "metadata": {},
   "outputs": [],
   "source": [
    "import yfinance as yf\n",
    "import pandas as pd\n",
    "import numpy as np\n",
    "import matplotlib.pyplot as plt\n",
    "from datetime import datetime\n",
    "plt.style.use('fivethirtyeight')"
   ]
  },
  {
   "cell_type": "code",
   "execution_count": null,
   "id": "33c362bb",
   "metadata": {},
   "outputs": [],
   "source": [
    "end = datetime.now()\n",
    "start = datetime(end.year - 15, end.month, end.day)\n",
    "\n",
    "stock = 'BTC-USD'\n",
    "stock_data = yf.download(stock, start=start, end = end)"
   ]
  },
  {
   "cell_type": "code",
   "execution_count": null,
   "id": "0cbecdfc",
   "metadata": {},
   "outputs": [],
   "source": [
    "stock_data.head()"
   ]
  },
  {
   "cell_type": "code",
   "execution_count": null,
   "id": "7801e4b9",
   "metadata": {},
   "outputs": [],
   "source": [
    "stock_data.tail()"
   ]
  },
  {
   "cell_type": "code",
   "execution_count": null,
   "id": "cb25f7a4",
   "metadata": {},
   "outputs": [],
   "source": [
    "stock_data.describe().T"
   ]
  },
  {
   "cell_type": "code",
   "execution_count": null,
   "id": "d810b2dd",
   "metadata": {},
   "outputs": [],
   "source": [
    "stock_data.info()"
   ]
  },
  {
   "cell_type": "code",
   "execution_count": null,
   "id": "417c32da",
   "metadata": {},
   "outputs": [],
   "source": [
    "#close price data\n",
    "closing_price = stock_data[['Close']]"
   ]
  },
  {
   "cell_type": "code",
   "execution_count": null,
   "id": "f84b2f34",
   "metadata": {},
   "outputs": [],
   "source": [
    "#Plot closing price with enhancement\n",
    "plt.figure(figsize=(15,6))\n",
    "plt.plot(closing_price.index, closing_price['Close'], label= 'Close Price', color = 'blue', linewidth = 2)\n",
    "plt.plot(closing_price.index, closing_price['MA_365'], label= '365 Days Moving Average', color = 'red', linestyle = \"--\",  linewidth = 2)\n",
    "plt.plot(closing_price.index, closing_price['MA_100'], label= '100 Days Moving Average', color = 'green', linestyle = \"--\", linewidth = 2)\n",
    "\n",
    "plt.title(\"Closing price with moving average\", fontsize = 16)\n",
    "plt.xlabel(\"Years\", fontsize=14)\n",
    "plt.ylabel('Price', fontsize = 14)\n",
    "plt.grid(alpha=0.3)\n",
    "plt.legend(fontsize = 12)\n",
    "plt.show()"
   ]
  },
  {
   "cell_type": "code",
   "execution_count": null,
   "id": "4b2cad91",
   "metadata": {},
   "outputs": [],
   "source": [
    "#Moving Average\n",
    "temp_data = [10,20,30,40,50,60,70,80,90, 100]\n",
    "#moving average for 5 -> day null null null null 30.0 40.0\n",
    "print(sum(temp_data[1:6])/5)\n"
   ]
  },
  {
   "cell_type": "code",
   "execution_count": null,
   "id": "5d67c2cd",
   "metadata": {},
   "outputs": [],
   "source": [
    "df1 = pd.DataFrame(temp_data)"
   ]
  },
  {
   "cell_type": "code",
   "execution_count": null,
   "id": "a49b3911",
   "metadata": {},
   "outputs": [],
   "source": [
    "df1.rolling(5).mean()"
   ]
  },
  {
   "cell_type": "code",
   "execution_count": null,
   "id": "c15c6e0a",
   "metadata": {},
   "outputs": [],
   "source": [
    "for i in range(2014,2025):\n",
    "    print(i, list(stock_data.index.year).count(i))"
   ]
  },
  {
   "cell_type": "code",
   "execution_count": null,
   "id": "a04bd812",
   "metadata": {},
   "outputs": [],
   "source": [
    "closing_price['MA_365'] = closing_price['Close'].rolling(window=365).mean()\n",
    "closing_price['MA_100'] = closing_price['Close'].rolling(window=100).mean()"
   ]
  },
  {
   "cell_type": "code",
   "execution_count": null,
   "id": "ea27e46e",
   "metadata": {},
   "outputs": [],
   "source": [
    "#LSTM -> Long Short Term Memory\n",
    "#scale the data\n",
    "from sklearn.preprocessing import MinMaxScaler\n",
    "scaler = MinMaxScaler(feature_range=(0, 1))\n",
    "scaled_data = scaler.fit_transform(closing_price['Close'].dropna())"
   ]
  },
  {
   "cell_type": "code",
   "execution_count": null,
   "id": "66a8c9a2",
   "metadata": {},
   "outputs": [],
   "source": [
    "scaled_data"
   ]
  },
  {
   "cell_type": "code",
   "execution_count": null,
   "id": "ed4993e6",
   "metadata": {},
   "outputs": [],
   "source": []
  },
  {
   "cell_type": "code",
   "execution_count": null,
   "id": "a3ab553b",
   "metadata": {},
   "outputs": [],
   "source": []
  }
 ],
 "metadata": {
  "kernelspec": {
   "display_name": "base",
   "language": "python",
   "name": "python3"
  },
  "language_info": {
   "codemirror_mode": {
    "name": "ipython",
    "version": 3
   },
   "file_extension": ".py",
   "mimetype": "text/x-python",
   "name": "python",
   "nbconvert_exporter": "python",
   "pygments_lexer": "ipython3",
   "version": "3.13.5"
  }
 },
 "nbformat": 4,
 "nbformat_minor": 5
}
